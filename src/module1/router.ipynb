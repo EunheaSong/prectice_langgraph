{
 "cells": [
  {
   "cell_type": "markdown",
   "metadata": {},
   "source": [
    "## Router\n",
    "### Review\n",
    "우리는 메시지를 상태(state)로 사용하고 도구(tool)가 연결된 채팅 모델을 활용하는 그래프를 구축했습니다.\n",
    "<br>\n",
    "우리는 이 그래프가 다음과 같은 기능을 수행할 수 있음을 확인했습니다:\n",
    "- 도구 호출 반환\n",
    "- 자연어 응답 반환\n",
    "\n",
    "### Goals\n",
    "우리는 이를 **라우터(router)**로 볼 수 있습니다. 즉, 채팅 모델이 사용자의 입력에 따라 직접 응답할지 또는 도구를 호출할지 결정하여 경로를 조정합니다.\n",
    "\n",
    "이는 간단한 에이전트(agent)의 예시로, LLM이 도구를 호출하거나 직접 응답하는 방식으로 제어 흐름을 관리하는 역할을 수행합니다.\n",
    "\n",
    "![Screenshot 2024-08-21 at 9.24.09 AM.png](https://cdn.prod.website-files.com/65b8cd72835ceeacd4449a53/66dbac6543c3d4df239a4ed1_router1.png)\n",
    "\n",
    "\n",
    "그래프 확장하기: 다양한 출력 방식 지원\n",
    "이제 우리의 그래프를 두 가지 출력 방식 모두 처리할 수 있도록 확장해봅시다!\n",
    "\n",
    "이를 위해 두 가지 아이디어를 활용할 수 있습니다:\n",
    "1. 도구를 호출하는 노드 추가\n",
    "2. 특정 조건에서 도구를 실행할 수 있도록 새로운 노드를 추가합니다. <br>\n",
    "조건부(edge) 추가 <br>\n",
    "채팅 모델의 출력을 확인하고, <br>\n",
    "도구 호출이 필요한 경우 도구 호출 노드로 이동하고, <br>\n",
    "도구 호출이 필요하지 않다면 바로 종료하도록 설정합니다."
   ]
  },
  {
   "cell_type": "code",
   "execution_count": 12,
   "metadata": {},
   "outputs": [],
   "source": [
    "%%capture --no-stderr\n",
    "%pip install --quiet -U langchain_openai, langchain_core, langgraph"
   ]
  },
  {
   "cell_type": "code",
   "execution_count": null,
   "metadata": {},
   "outputs": [],
   "source": [
    "import os, getpass\n",
    "\n",
    "os.environ['OPENAI_API_KEY'] = \"\""
   ]
  },
  {
   "cell_type": "code",
   "execution_count": 18,
   "metadata": {},
   "outputs": [
    {
     "name": "stdout",
     "output_type": "stream",
     "text": [
      "Requirement already satisfied: langgraph in /Users/song-eunhye/Desktop/prectice_langgraph/.venv/lib/python3.12/site-packages (0.3.5)\n",
      "Requirement already satisfied: langchain-core<0.4,>=0.1 in /Users/song-eunhye/Desktop/prectice_langgraph/.venv/lib/python3.12/site-packages (from langgraph) (0.3.41)\n",
      "Requirement already satisfied: langgraph-checkpoint<3.0.0,>=2.0.10 in /Users/song-eunhye/Desktop/prectice_langgraph/.venv/lib/python3.12/site-packages (from langgraph) (2.0.15)\n",
      "Requirement already satisfied: langgraph-prebuilt<0.2,>=0.1.1 in /Users/song-eunhye/Desktop/prectice_langgraph/.venv/lib/python3.12/site-packages (from langgraph) (0.1.1)\n",
      "Requirement already satisfied: langgraph-sdk<0.2.0,>=0.1.42 in /Users/song-eunhye/Desktop/prectice_langgraph/.venv/lib/python3.12/site-packages (from langgraph) (0.1.51)\n",
      "Requirement already satisfied: langsmith<0.4,>=0.1.125 in /Users/song-eunhye/Desktop/prectice_langgraph/.venv/lib/python3.12/site-packages (from langchain-core<0.4,>=0.1->langgraph) (0.3.8)\n",
      "Requirement already satisfied: tenacity!=8.4.0,<10.0.0,>=8.1.0 in /Users/song-eunhye/Desktop/prectice_langgraph/.venv/lib/python3.12/site-packages (from langchain-core<0.4,>=0.1->langgraph) (9.0.0)\n",
      "Requirement already satisfied: jsonpatch<2.0,>=1.33 in /Users/song-eunhye/Desktop/prectice_langgraph/.venv/lib/python3.12/site-packages (from langchain-core<0.4,>=0.1->langgraph) (1.33)\n",
      "Requirement already satisfied: PyYAML>=5.3 in /Users/song-eunhye/Desktop/prectice_langgraph/.venv/lib/python3.12/site-packages (from langchain-core<0.4,>=0.1->langgraph) (6.0.2)\n",
      "Requirement already satisfied: packaging<25,>=23.2 in /Users/song-eunhye/Desktop/prectice_langgraph/.venv/lib/python3.12/site-packages (from langchain-core<0.4,>=0.1->langgraph) (24.2)\n",
      "Requirement already satisfied: typing-extensions>=4.7 in /Users/song-eunhye/Desktop/prectice_langgraph/.venv/lib/python3.12/site-packages (from langchain-core<0.4,>=0.1->langgraph) (4.12.2)\n",
      "Requirement already satisfied: pydantic<3.0.0,>=2.5.2 in /Users/song-eunhye/Desktop/prectice_langgraph/.venv/lib/python3.12/site-packages (from langchain-core<0.4,>=0.1->langgraph) (2.10.6)\n",
      "Requirement already satisfied: msgpack<2.0.0,>=1.1.0 in /Users/song-eunhye/Desktop/prectice_langgraph/.venv/lib/python3.12/site-packages (from langgraph-checkpoint<3.0.0,>=2.0.10->langgraph) (1.1.0)\n",
      "Requirement already satisfied: httpx>=0.25.2 in /Users/song-eunhye/Desktop/prectice_langgraph/.venv/lib/python3.12/site-packages (from langgraph-sdk<0.2.0,>=0.1.42->langgraph) (0.28.1)\n",
      "Requirement already satisfied: orjson>=3.10.1 in /Users/song-eunhye/Desktop/prectice_langgraph/.venv/lib/python3.12/site-packages (from langgraph-sdk<0.2.0,>=0.1.42->langgraph) (3.10.15)\n",
      "Requirement already satisfied: anyio in /Users/song-eunhye/Desktop/prectice_langgraph/.venv/lib/python3.12/site-packages (from httpx>=0.25.2->langgraph-sdk<0.2.0,>=0.1.42->langgraph) (4.8.0)\n",
      "Requirement already satisfied: certifi in /Users/song-eunhye/Desktop/prectice_langgraph/.venv/lib/python3.12/site-packages (from httpx>=0.25.2->langgraph-sdk<0.2.0,>=0.1.42->langgraph) (2025.1.31)\n",
      "Requirement already satisfied: httpcore==1.* in /Users/song-eunhye/Desktop/prectice_langgraph/.venv/lib/python3.12/site-packages (from httpx>=0.25.2->langgraph-sdk<0.2.0,>=0.1.42->langgraph) (1.0.7)\n",
      "Requirement already satisfied: idna in /Users/song-eunhye/Desktop/prectice_langgraph/.venv/lib/python3.12/site-packages (from httpx>=0.25.2->langgraph-sdk<0.2.0,>=0.1.42->langgraph) (3.10)\n",
      "Requirement already satisfied: h11<0.15,>=0.13 in /Users/song-eunhye/Desktop/prectice_langgraph/.venv/lib/python3.12/site-packages (from httpcore==1.*->httpx>=0.25.2->langgraph-sdk<0.2.0,>=0.1.42->langgraph) (0.14.0)\n",
      "Requirement already satisfied: jsonpointer>=1.9 in /Users/song-eunhye/Desktop/prectice_langgraph/.venv/lib/python3.12/site-packages (from jsonpatch<2.0,>=1.33->langchain-core<0.4,>=0.1->langgraph) (3.0.0)\n",
      "Requirement already satisfied: requests<3,>=2 in /Users/song-eunhye/Desktop/prectice_langgraph/.venv/lib/python3.12/site-packages (from langsmith<0.4,>=0.1.125->langchain-core<0.4,>=0.1->langgraph) (2.32.3)\n",
      "Requirement already satisfied: requests-toolbelt<2.0.0,>=1.0.0 in /Users/song-eunhye/Desktop/prectice_langgraph/.venv/lib/python3.12/site-packages (from langsmith<0.4,>=0.1.125->langchain-core<0.4,>=0.1->langgraph) (1.0.0)\n",
      "Requirement already satisfied: zstandard<0.24.0,>=0.23.0 in /Users/song-eunhye/Desktop/prectice_langgraph/.venv/lib/python3.12/site-packages (from langsmith<0.4,>=0.1.125->langchain-core<0.4,>=0.1->langgraph) (0.23.0)\n",
      "Requirement already satisfied: annotated-types>=0.6.0 in /Users/song-eunhye/Desktop/prectice_langgraph/.venv/lib/python3.12/site-packages (from pydantic<3.0.0,>=2.5.2->langchain-core<0.4,>=0.1->langgraph) (0.7.0)\n",
      "Requirement already satisfied: pydantic-core==2.27.2 in /Users/song-eunhye/Desktop/prectice_langgraph/.venv/lib/python3.12/site-packages (from pydantic<3.0.0,>=2.5.2->langchain-core<0.4,>=0.1->langgraph) (2.27.2)\n",
      "Requirement already satisfied: charset-normalizer<4,>=2 in /Users/song-eunhye/Desktop/prectice_langgraph/.venv/lib/python3.12/site-packages (from requests<3,>=2->langsmith<0.4,>=0.1.125->langchain-core<0.4,>=0.1->langgraph) (3.4.1)\n",
      "Requirement already satisfied: urllib3<3,>=1.21.1 in /Users/song-eunhye/Desktop/prectice_langgraph/.venv/lib/python3.12/site-packages (from requests<3,>=2->langsmith<0.4,>=0.1.125->langchain-core<0.4,>=0.1->langgraph) (2.3.0)\n",
      "Requirement already satisfied: sniffio>=1.1 in /Users/song-eunhye/Desktop/prectice_langgraph/.venv/lib/python3.12/site-packages (from anyio->httpx>=0.25.2->langgraph-sdk<0.2.0,>=0.1.42->langgraph) (1.3.1)\n",
      "Note: you may need to restart the kernel to use updated packages.\n"
     ]
    }
   ],
   "source": [
    "%pip install langgraph\n"
   ]
  },
  {
   "cell_type": "code",
   "execution_count": 20,
   "metadata": {},
   "outputs": [],
   "source": [
    "from langchain_openai import ChatOpenAI\n",
    "\n",
    "def multiply(a: int, b: int) -> int:\n",
    "    \"\"\"Multiply a and b.\n",
    "\n",
    "    Args:\n",
    "        a: first int\n",
    "        b: second int     \n",
    "    \"\"\"\n",
    "    return a * b\n",
    "\n",
    "llm = ChatOpenAI(model = \"gpt-4o\")\n",
    "llm_with_tools = llm.bind_tools([multiply])\n"
   ]
  },
  {
   "cell_type": "code",
   "execution_count": null,
   "metadata": {},
   "outputs": [
    {
     "ename": "ImportError",
     "evalue": "cannot import name 'ToolNode' from 'langgraph.prebuilt' (unknown location)",
     "output_type": "error",
     "traceback": [
      "\u001b[0;31m---------------------------------------------------------------------------\u001b[0m",
      "\u001b[0;31mImportError\u001b[0m                               Traceback (most recent call last)",
      "Cell \u001b[0;32mIn[23], line 4\u001b[0m\n\u001b[1;32m      2\u001b[0m \u001b[38;5;28;01mfrom\u001b[39;00m\u001b[38;5;250m \u001b[39m\u001b[38;5;21;01mlanggraph\u001b[39;00m\u001b[38;5;21;01m.\u001b[39;00m\u001b[38;5;21;01mgraph\u001b[39;00m\u001b[38;5;250m \u001b[39m\u001b[38;5;28;01mimport\u001b[39;00m StateGraph, START, END\n\u001b[1;32m      3\u001b[0m \u001b[38;5;28;01mfrom\u001b[39;00m\u001b[38;5;250m \u001b[39m\u001b[38;5;21;01mlanggraph\u001b[39;00m\u001b[38;5;21;01m.\u001b[39;00m\u001b[38;5;21;01mgraph\u001b[39;00m\u001b[38;5;250m \u001b[39m\u001b[38;5;28;01mimport\u001b[39;00m MessagesState\n\u001b[0;32m----> 4\u001b[0m \u001b[38;5;28;01mfrom\u001b[39;00m\u001b[38;5;250m \u001b[39m\u001b[38;5;21;01mlanggraph\u001b[39;00m\u001b[38;5;21;01m.\u001b[39;00m\u001b[38;5;21;01mprebuilt\u001b[39;00m\u001b[38;5;250m \u001b[39m\u001b[38;5;28;01mimport\u001b[39;00m ToolNode\n\u001b[1;32m      5\u001b[0m \u001b[38;5;28;01mfrom\u001b[39;00m\u001b[38;5;250m \u001b[39m\u001b[38;5;21;01mlanggraph\u001b[39;00m\u001b[38;5;21;01m.\u001b[39;00m\u001b[38;5;21;01mprebuilt\u001b[39;00m\u001b[38;5;250m \u001b[39m\u001b[38;5;28;01mimport\u001b[39;00m tools_condition\n\u001b[1;32m      7\u001b[0m \u001b[38;5;66;03m# tools_condition 은 어떤 걸까?\u001b[39;00m\n\u001b[1;32m      8\u001b[0m \n\u001b[1;32m      9\u001b[0m \u001b[38;5;66;03m# Node \u001b[39;00m\n",
      "\u001b[0;31mImportError\u001b[0m: cannot import name 'ToolNode' from 'langgraph.prebuilt' (unknown location)"
     ]
    }
   ],
   "source": [
    "from IPython.display import Image, display\n",
    "from langgraph.graph import StateGraph, START, END\n",
    "from langgraph.graph import MessagesState\n",
    "from langgraph.prebuilt import ToolNode # 안찾아짐\n",
    "from langgraph.prebuilt import tools_condition\n",
    "\n",
    "# tools_condition 은 어떤 걸까?\n",
    "\n",
    "# Node \n",
    "def tool_calling_llm(state: MessagesState): \n",
    "    return {\"messages\" : [llm_with_tools.invoke(state[\"messages\"])]}\n",
    "\n",
    "# Build graph\n",
    "builder = StateGraph(MessagesState)\n",
    "builder.add_node(\"tool_calling_llm\", ToolNode(tool_calling_llm))\n",
    "builder.add_node(\"tools\", ToolNode([multiply]))\n",
    "builder.add_edge(START, \"tool_calling_llm\")\n",
    "builder.add_conditional_edges(\n",
    "    \"tool_calling_llm\", \n",
    "  # If the latest message (result) from assistant is a tool call -> tools_condition routes to tools\n",
    "  # If the latest message (result) from assistant is a not a tool call -> tools_condition routes to END \n",
    "    tools_condition \n",
    ")\n",
    "builder.add_edge(\"tools\", END)\n",
    "graph = builder.compile()\n",
    "\n",
    "display(Image(graph.get_graph().draw_mermaid_png()))"
   ]
  },
  {
   "cell_type": "code",
   "execution_count": null,
   "metadata": {},
   "outputs": [],
   "source": [
    "from langchain_core.messages import HumanMessage\n",
    "messages = [HumanMessage(content=\"Hello, what is 2 multiplied by 2? .\")]\n",
    "messages = graph.invoke({\"messages\": messages})\n",
    "for m in messages['messages']:\n",
    "    m.pretty_print()"
   ]
  }
 ],
 "metadata": {
  "kernelspec": {
   "display_name": ".venv",
   "language": "python",
   "name": "python3"
  },
  "language_info": {
   "codemirror_mode": {
    "name": "ipython",
    "version": 3
   },
   "file_extension": ".py",
   "mimetype": "text/x-python",
   "name": "python",
   "nbconvert_exporter": "python",
   "pygments_lexer": "ipython3",
   "version": "3.12.3"
  }
 },
 "nbformat": 4,
 "nbformat_minor": 2
}
