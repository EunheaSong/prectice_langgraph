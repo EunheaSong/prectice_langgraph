{
 "cells": [
  {
   "cell_type": "markdown",
   "metadata": {},
   "source": [
    "# Chain\n"
   ]
  },
  {
   "cell_type": "code",
   "execution_count": 1,
   "metadata": {},
   "outputs": [],
   "source": [
    "%%capture --no-stderr\n",
    "%pip install --quiet -U langchain_openai langchain_core langgraph"
   ]
  },
  {
   "cell_type": "markdown",
   "metadata": {},
   "source": [
    "## Messages\n",
    "채팅 모델은 대화 내 다양한 역할을 포착하는 메시지를 사용할 수 있다. <br>\n",
    "<br>\n",
    "LangChain은 HumanMessage, AIMessage, SystemMessage, ToolMessage 등 다양한 메시지 유형을 지원한다. <br>\n",
    "<br>\n",
    "이 메시지들은 사용자 메시지, 채팅 모델의 메시지, 채팅 모델의 동작 지시 메시지, 도구 호출 메시지를 각각 나타낸다.<br>\n",
    "<br>\n",
    "각 메시지는 다음과 같은 요소들을 포함할 수 있다:<br>\n",
    "- content: 메시지의 내용<br>\n",
    "- name: 선택적으로 메시지 작성자<br>\n",
    "- response_metadata: 선택적으로 메타데이터(dict 형식, 예를 들어 AIMessages의 경우 모델 제공자가 자주 채워 넣음)<br>"
   ]
  },
  {
   "cell_type": "code",
   "execution_count": 3,
   "metadata": {},
   "outputs": [
    {
     "name": "stdout",
     "output_type": "stream",
     "text": [
      "==================================\u001b[1m Ai Message \u001b[0m==================================\n",
      "Name: Model\n",
      "\n",
      "So tou said you were researching ocean mammals?\n",
      "================================\u001b[1m Human Message \u001b[0m=================================\n",
      "Name: Lance\n",
      "\n",
      "Yes, that's right.\n",
      "==================================\u001b[1m Ai Message \u001b[0m==================================\n",
      "Name: Model\n",
      "\n",
      "Great, what would you like to learn about.\n",
      "================================\u001b[1m Human Message \u001b[0m=================================\n",
      "Name: Lance\n",
      "\n",
      "I want to learn about the best place to see Orcas in the US.\n"
     ]
    }
   ],
   "source": [
    "from pprint import pprint\n",
    "from langchain_core.messages import AIMessage, HumanMessage, SystemMessage\n",
    "\n",
    "messages = [AIMessage(content=f\"So tou said you were researching ocean mammals?\", name=\"Model\")]\n",
    "messages.extend([HumanMessage(content=f\"Yes, that's right.\", name=\"Lance\")])\n",
    "messages.extend([AIMessage(content=f\"Great, what would you like to learn about.\", name=\"Model\")])\n",
    "messages.extend([HumanMessage(content=f\"I want to learn about the best place to see Orcas in the US.\", name=\"Lance\")])\n",
    "\n",
    "for m in messages:\n",
    "    m.pretty_print()\n"
   ]
  },
  {
   "cell_type": "markdown",
   "metadata": {},
   "source": [
    "## Chat Models \n",
    "메시지 모델은 입력으로 메시지 시퀀스를 사용할 수 있으며, 위에서 설명한 메시지 유형을 지원한다. <br>\n",
    "채팅 모델은 위에서 설명한 것처럼 메시지 시퀀스를 입력으로 사용하며 다양한 메시지 유형을 지원한다."
   ]
  },
  {
   "cell_type": "code",
   "execution_count": null,
   "metadata": {},
   "outputs": [],
   "source": [
    "import os, getpass\n",
    "\n",
    "def _set_env(var: str):\n",
    "    if not os.environ.get(var):\n",
    "        os.environ[var] = getpass.getpass(f\"Enter the value for {var}: \")\n",
    "\n",
    "_set_env(\"OPENAI_API_KEY\")"
   ]
  },
  {
   "cell_type": "markdown",
   "metadata": {},
   "source": [
    "채팅 모델을 불러와서 메시지 목록을 통해 호출할 수 있다. <br>\n",
    "그 결과로, 특정 response_metadata를 가진 AIMessage가 반환되는 것을 확인할 수 있다."
   ]
  },
  {
   "cell_type": "code",
   "execution_count": null,
   "metadata": {},
   "outputs": [
    {
     "data": {
      "text/plain": [
       "langchain_core.messages.ai.AIMessage"
      ]
     },
     "execution_count": 5,
     "metadata": {},
     "output_type": "execute_result"
    }
   ],
   "source": [
    "from langchain_openai import ChatOpenAI\n",
    "\n",
    "llm = ChatOpenAI(model=\"gpt-4o\")\n",
    "result = llm.invoke(messages)\n",
    "\n",
    "# 이건 어떤 함수?\n",
    "type(result)"
   ]
  },
  {
   "cell_type": "code",
   "execution_count": 6,
   "metadata": {},
   "outputs": [
    {
     "data": {
      "text/plain": [
       "AIMessage(content='Orcas, also known as killer whales, are remarkable creatures that can be spotted in several locations along the US coastline. Here are some of the best places to see orcas in the US:\\n\\n1. **San Juan Islands, Washington**: This is one of the most popular and reliable places to see orcas in the wild. The best time is during the summer months when the salmon are abundant, attracting orcas to the area. \\n\\n2. **Puget Sound, Washington**: Close to the San Juan Islands, Puget Sound also offers opportunities to see orcas, especially from whale-watching tours departing from Seattle or nearby cities.\\n\\n3. **Southeastern Alaska**: Orcas can be seen throughout the year in the waters of southeastern Alaska. Areas around Juneau, Sitka, and Ketchikan are known for orca sightings, particularly from cruise ships or specialized whale-watching tours.\\n\\n4. **Monterey Bay, California**: Although orcas are not resident here, they can sometimes be spotted during certain times of the year when they visit the bay to hunt for seals, sea lions, and other marine mammals.\\n\\n5. **Lime Kiln Point State Park, Washington**: Known as the \"Whale Watch Park,\" this location on San Juan Island offers one of the best land-based opportunities to see orcas.\\n\\nWhen planning a trip for orca watching, it\\'s a good idea to check with local whale-watching companies or online forums for recent sighting reports to increase your chances of seeing these magnificent animals.', additional_kwargs={'refusal': None}, response_metadata={'token_usage': {'completion_tokens': 314, 'prompt_tokens': 67, 'total_tokens': 381, 'completion_tokens_details': {'accepted_prediction_tokens': 0, 'audio_tokens': 0, 'reasoning_tokens': 0, 'rejected_prediction_tokens': 0}, 'prompt_tokens_details': {'audio_tokens': 0, 'cached_tokens': 0}}, 'model_name': 'gpt-4o-2024-08-06', 'system_fingerprint': 'fp_eb9dce56a8', 'finish_reason': 'stop', 'logprobs': None}, id='run-90b4feec-af09-402a-99da-f6aa2f83b7b0-0', usage_metadata={'input_tokens': 67, 'output_tokens': 314, 'total_tokens': 381, 'input_token_details': {'audio': 0, 'cache_read': 0}, 'output_token_details': {'audio': 0, 'reasoning': 0}})"
      ]
     },
     "execution_count": 6,
     "metadata": {},
     "output_type": "execute_result"
    }
   ],
   "source": [
    "result"
   ]
  },
  {
   "cell_type": "code",
   "execution_count": null,
   "metadata": {},
   "outputs": [
    {
     "data": {
      "text/plain": [
       "{'token_usage': {'completion_tokens': 314,\n",
       "  'prompt_tokens': 67,\n",
       "  'total_tokens': 381,\n",
       "  'completion_tokens_details': {'accepted_prediction_tokens': 0,\n",
       "   'audio_tokens': 0,\n",
       "   'reasoning_tokens': 0,\n",
       "   'rejected_prediction_tokens': 0},\n",
       "  'prompt_tokens_details': {'audio_tokens': 0, 'cached_tokens': 0}},\n",
       " 'model_name': 'gpt-4o-2024-08-06',\n",
       " 'system_fingerprint': 'fp_eb9dce56a8',\n",
       " 'finish_reason': 'stop',\n",
       " 'logprobs': None}"
      ]
     },
     "execution_count": 7,
     "metadata": {},
     "output_type": "execute_result"
    }
   ],
   "source": [
    "# 토큰 수는 얼마인지, 사용된 모델명은 무엇인지 등등 ... 여러 메타데이터를 확인할 수 있다.\n",
    "result.response_metadata"
   ]
  },
  {
   "cell_type": "markdown",
   "metadata": {},
   "source": [
    "## Tools \n",
    "도구는 모델이 외부 시스템과 상호작용할 때 유용하다. <br>\n",
    "외부 시스템(예: API)은 자연어 대신 특정 입력 스키마나 페이로드를 요구하는 경우가 많다. 예를 들어, API를 도구로 바인딩할 경우 모델은 요구되는 입력 스키마를 인지하게 된다. <br>\n",
    "<br>\n",
    "모델은 사용자의 자연어 입력에 기반하여 도구 호출을 선택하게 되며, 도구의 스키마에 맞는 결과를 반환한다.\n",
    "<br>\n",
    "많은 LLM 제공업체가 도구 호출을 지원하며, LangChain에서 도구 호출을 할 때는 tool 로 사용하기 위해 만든 Python 함수를 ChatModel.bind_tools(function)에 전달하기만 하면 된다."
   ]
  },
  {
   "cell_type": "code",
   "execution_count": null,
   "metadata": {},
   "outputs": [],
   "source": [
    "\n",
    "def multiply(a: int, b: int) -> int:\n",
    "    \"\"\"Multiply a and b.\n",
    "\n",
    "    Args: \n",
    "        a: first int\n",
    "        b: second int\n",
    "    \"\"\"\n",
    "    return a * b\n",
    "\n",
    "# llm 에 tool 등록. \n",
    "llm_with_tools = llm.bind_tools([multiply])"
   ]
  },
  {
   "cell_type": "code",
   "execution_count": 9,
   "metadata": {},
   "outputs": [
    {
     "data": {
      "text/plain": [
       "AIMessage(content='', additional_kwargs={'tool_calls': [{'id': 'call_Mab9VDQWXZIy9ypMdBcEQv3T', 'function': {'arguments': '{\"a\":2,\"b\":3}', 'name': 'multiply'}, 'type': 'function'}], 'refusal': None}, response_metadata={'token_usage': {'completion_tokens': 18, 'prompt_tokens': 63, 'total_tokens': 81, 'completion_tokens_details': {'accepted_prediction_tokens': 0, 'audio_tokens': 0, 'reasoning_tokens': 0, 'rejected_prediction_tokens': 0}, 'prompt_tokens_details': {'audio_tokens': 0, 'cached_tokens': 0}}, 'model_name': 'gpt-4o-2024-08-06', 'system_fingerprint': 'fp_f9f4fb6dbf', 'finish_reason': 'tool_calls', 'logprobs': None}, id='run-91ff74ff-c2e0-45c5-93c7-1784fb80d0ac-0', tool_calls=[{'name': 'multiply', 'args': {'a': 2, 'b': 3}, 'id': 'call_Mab9VDQWXZIy9ypMdBcEQv3T', 'type': 'tool_call'}], usage_metadata={'input_tokens': 63, 'output_tokens': 18, 'total_tokens': 81, 'input_token_details': {'audio': 0, 'cache_read': 0}, 'output_token_details': {'audio': 0, 'reasoning': 0}})"
      ]
     },
     "execution_count": 9,
     "metadata": {},
     "output_type": "execute_result"
    }
   ],
   "source": [
    "tool_call = llm_with_tools.invoke([HumanMessage(content=f\"What is 2 multipled by 3\", name=\"Lance\")])\n",
    "tool_call"
   ]
  },
  {
   "cell_type": "code",
   "execution_count": null,
   "metadata": {},
   "outputs": [
    {
     "data": {
      "text/plain": [
       "[{'id': 'call_Mab9VDQWXZIy9ypMdBcEQv3T',\n",
       "  'function': {'arguments': '{\"a\":2,\"b\":3}', 'name': 'multiply'},\n",
       "  'type': 'function'}]"
      ]
     },
     "execution_count": 10,
     "metadata": {},
     "output_type": "execute_result"
    }
   ],
   "source": [
    "\n",
    "# 응답된 tool_call 에는 additional_kwargs 이라는 딕셔너리가 반환된다.\n",
    "# additional_kwargs 딕셔너리에서 tool_calls 라는 키를 통해 도구 호출에 대한 구체적인 정보를 가져온다.\n",
    "tool_call.additional_kwargs['tool_calls']"
   ]
  },
  {
   "cell_type": "markdown",
   "metadata": {},
   "source": [
    "## Using messages as state\n",
    "다음은 메시지를 상태로 활용하는 예시. <br>\n",
    "그래프 상태에서 메시지를 사용할 수 있다. <br>\n",
    "<br>\n",
    "MessagesState라는 이름의 TypedDict를 단일 키인 messages로 구성해보고, 그래프를 완성해본다. <br>\n",
    "<br>\n",
    "여기서 messages는 앞서 정의한 (예: HumanMessage 등) 메시지들의 리스트입니다."
   ]
  },
  {
   "cell_type": "code",
   "execution_count": 12,
   "metadata": {},
   "outputs": [],
   "source": [
    "from typing import TypedDict\n",
    "from langchain_core.messages import AnyMessage\n",
    "\n",
    "class MessgesState(TypedDict):\n",
    "    messages: list[AnyMessage]\n"
   ]
  },
  {
   "cell_type": "markdown",
   "metadata": {},
   "source": [
    "## Reducers\n",
    "각 노드는 상태 키인 messages에 대해 새로운 값을 반환하는데, 이 새로운 값은 기존의 messages 값을 덮어쓰게 되는 문제가 생긴다. <br>\n",
    "<br>\n",
    "그래프가 실행되는 동안, messages 상태 키에 메시지를 추가하고자 한다.<br>\n",
    "이를 해결하기 위해 리듀서 함수를 사용할 수 있다.<br>\n",
    "<br>\n",
    "리듀서는 상태 업데이트가 어떻게 수행되는지 지정할 수 있게 해준다.<br>\n",
    "리듀서 함수가 지정되지 않은 경우, 앞서 본 것처럼 해당 키의 업데이트는 덮어쓰기로 처리된다.<br>\n",
    "하지만 메시지를 추가하기 위해서는 미리 만들어진 add_messages 리듀서를 사용할 수 있다.<br>\n",
    "<br>\n",
    "이 리듀서를 사용하면 기존 메시지 리스트에 새 메시지가 추가된다. <br>\n",
    "단순히 messages 키에 add_messages 리듀서 함수를 메타데이터로 주석 처리해주면 된다."
   ]
  },
  {
   "cell_type": "code",
   "execution_count": 17,
   "metadata": {},
   "outputs": [],
   "source": [
    "from typing import Annotated\n",
    "from langchain_core.messages import AnyMessage\n",
    "from langgraph.graph.message import add_messages\n",
    "\n",
    "class MessagesState(TypedDict):\n",
    "    messages: Annotated[list[AnyMessage], add_messages]\n"
   ]
  },
  {
   "cell_type": "markdown",
   "metadata": {},
   "source": [
    "메시지 리스트를 그래프 상태에 포함시키는 것은 매우 일반적이므로, LangGraph에는 미리 정의된 MessagesState가 제공된다  <br>\n",
    "\n",
    "MessagesState는 다음과 같이 정의: <br>\n",
    "- 미리 구축된 단일 messages 키를 가짐\n",
    "- 이는 AnyMessage 객체들의 리스트임\n",
    "- add_messages 리듀서를 사용함 <br>\n",
    "<br>\n",
    "\n",
    "보통은 앞서 설명한 사용자 정의 TypedDict보다 간결하기 때문에 MessagesState를 사용한다."
   ]
  },
  {
   "cell_type": "code",
   "execution_count": 18,
   "metadata": {},
   "outputs": [],
   "source": [
    "from langgraph.graph import MessagesState\n",
    "\n",
    "class State(MessagesState):\n",
    "    pass"
   ]
  },
  {
   "cell_type": "markdown",
   "metadata": {},
   "source": [
    "그래프에서 MessagesState를 사용 테스트.<br>\n",
    "<br>\n",
    "\"Hello!\"라는 입력을 주면, LLM은 도구 호출 없이 응답. <br>\n",
    "LLM은 입력이나 작업이 도구가 제공하는 기능을 필요로 한다고 판단할 때만 도구 호출을 한다."
   ]
  },
  {
   "cell_type": "code",
   "execution_count": 15,
   "metadata": {},
   "outputs": [
    {
     "data": {
      "text/plain": [
       "[AIMessage(content='Hello! How can I assist you?', additional_kwargs={}, response_metadata={}, name='Model', id='1ca4f9c6-e671-4a45-8ae7-2b19d19fff94'),\n",
       " HumanMessage(content='I am looking for information on marine biology.', additional_kwargs={}, response_metadata={}, name='Lance', id='61d21233-21c1-43d0-9576-f2d123c4711f'),\n",
       " AIMessage(content='Sure, I can help with that. What specifically ara you interested in?', additional_kwargs={}, response_metadata={}, name='Model', id='23ca6f6b-9763-455c-aa5a-4d204858250e')]"
      ]
     },
     "execution_count": 15,
     "metadata": {},
     "output_type": "execute_result"
    }
   ],
   "source": [
    "# Initial state\n",
    "initial_messages = [\n",
    "    AIMessage(content=\"Hello! How can I assist you?\", name=\"Model\"),\n",
    "    HumanMessage(content=\"I am looking for information on marine biology.\", name=\"Lance\")\n",
    "]\n",
    "\n",
    "# New message to add\n",
    "new_message = AIMessage(content=\"Sure, I can help with that. What specifically ara you interested in?\", name=\"Model\")\n",
    "\n",
    "# Test \n",
    "add_messages(initial_messages, new_message)"
   ]
  },
  {
   "cell_type": "markdown",
   "metadata": {},
   "source": [
    "## Our graph\n",
    "그래프를 완성하고, 이미지로 확인해본다. <br>\n",
    "테스트 실행을 통해 도구 호출이 의도대로 동작하는지 확인해본다. "
   ]
  },
  {
   "cell_type": "code",
   "execution_count": 24,
   "metadata": {},
   "outputs": [
    {
     "data": {
      "image/png": "[encoded data removed]",
      "text/plain": [
       "<IPython.core.display.Image object>"
      ]
     },
     "metadata": {},
     "output_type": "display_data"
    }
   ],
   "source": [
    "from IPython.display import Image, display\n",
    "from langgraph.graph import StateGraph, START, END\n",
    "\n",
    "# State \n",
    "class MessagesState(MessagesState):\n",
    "    pass   \n",
    "\n",
    "# Node\n",
    "def tool_calling_llm(state: MessagesState):\n",
    "    return {\"messages\": [llm_with_tools.invoke(state[\"messages\"])]}\n",
    "\n",
    "# Build graph\n",
    "builder = StateGraph(MessagesState)\n",
    "builder.add_node(\"tool_calling_llm\", tool_calling_llm)\n",
    "builder.add_edge(START, \"tool_calling_llm\")\n",
    "builder.add_edge(\"tool_calling_llm\", END)\n",
    "graph = builder.compile()\n",
    "\n",
    "# View \n",
    "display(Image(graph.get_graph().draw_mermaid_png()))"
   ]
  },
  {
   "cell_type": "code",
   "execution_count": 30,
   "metadata": {},
   "outputs": [
    {
     "data": {
      "text/plain": [
       "{'messages': [HumanMessage(content='Hello!', additional_kwargs={}, response_metadata={}, id='256058f7-aabb-4ba8-aa63-c21e3370cdbe'),\n",
       "  AIMessage(content='Hi there! How can I assist you today?', additional_kwargs={'refusal': None}, response_metadata={'token_usage': {'completion_tokens': 12, 'prompt_tokens': 54, 'total_tokens': 66, 'completion_tokens_details': {'accepted_prediction_tokens': 0, 'audio_tokens': 0, 'reasoning_tokens': 0, 'rejected_prediction_tokens': 0}, 'prompt_tokens_details': {'audio_tokens': 0, 'cached_tokens': 0}}, 'model_name': 'gpt-4o-2024-08-06', 'system_fingerprint': 'fp_f9f4fb6dbf', 'finish_reason': 'stop', 'logprobs': None}, id='run-e35475a0-f40a-4396-9802-2b890fd845e1-0', usage_metadata={'input_tokens': 54, 'output_tokens': 12, 'total_tokens': 66, 'input_token_details': {'audio': 0, 'cache_read': 0}, 'output_token_details': {'audio': 0, 'reasoning': 0}})]}"
      ]
     },
     "execution_count": 30,
     "metadata": {},
     "output_type": "execute_result"
    }
   ],
   "source": [
    "messages = graph.invoke({\"messages\": HumanMessage(content=\"Hello!\")})\n",
    "messages"
   ]
  },
  {
   "cell_type": "code",
   "execution_count": 31,
   "metadata": {},
   "outputs": [
    {
     "name": "stdout",
     "output_type": "stream",
     "text": [
      "================================\u001b[1m Human Message \u001b[0m=================================\n",
      "\n",
      "Hello!\n",
      "==================================\u001b[1m Ai Message \u001b[0m==================================\n",
      "\n",
      "Hi there! How can I assist you today?\n"
     ]
    }
   ],
   "source": [
    "for m in messages['messages']:\n",
    "    m.pretty_print()"
   ]
  },
  {
   "cell_type": "code",
   "execution_count": 26,
   "metadata": {},
   "outputs": [
    {
     "data": {
      "text/plain": [
       "{'messages': [HumanMessage(content='Multiply 2 and 3!', additional_kwargs={}, response_metadata={}, id='e239317a-fe7b-48bc-b5f8-c16d0a7055b4'),\n",
       "  AIMessage(content='', additional_kwargs={'tool_calls': [{'id': 'call_IepydK4IIxgncIjsXthOyuv5', 'function': {'arguments': '{\"a\":2,\"b\":3}', 'name': 'multiply'}, 'type': 'function'}], 'refusal': None}, response_metadata={'token_usage': {'completion_tokens': 18, 'prompt_tokens': 59, 'total_tokens': 77, 'completion_tokens_details': {'accepted_prediction_tokens': 0, 'audio_tokens': 0, 'reasoning_tokens': 0, 'rejected_prediction_tokens': 0}, 'prompt_tokens_details': {'audio_tokens': 0, 'cached_tokens': 0}}, 'model_name': 'gpt-4o-2024-08-06', 'system_fingerprint': 'fp_f9f4fb6dbf', 'finish_reason': 'tool_calls', 'logprobs': None}, id='run-d48365b2-b731-4d19-afbf-ea50e3ac7665-0', tool_calls=[{'name': 'multiply', 'args': {'a': 2, 'b': 3}, 'id': 'call_IepydK4IIxgncIjsXthOyuv5', 'type': 'tool_call'}], usage_metadata={'input_tokens': 59, 'output_tokens': 18, 'total_tokens': 77, 'input_token_details': {'audio': 0, 'cache_read': 0}, 'output_token_details': {'audio': 0, 'reasoning': 0}})]}"
      ]
     },
     "execution_count": 26,
     "metadata": {},
     "output_type": "execute_result"
    }
   ],
   "source": [
    "messages = graph.invoke({\"messages\": HumanMessage(content=\"Multiply 2 and 3!\")})\n",
    "messages"
   ]
  },
  {
   "cell_type": "code",
   "execution_count": 28,
   "metadata": {},
   "outputs": [
    {
     "name": "stdout",
     "output_type": "stream",
     "text": [
      "================================\u001b[1m Human Message \u001b[0m=================================\n",
      "\n",
      "Multiply 2 and 3!\n",
      "==================================\u001b[1m Ai Message \u001b[0m==================================\n",
      "Tool Calls:\n",
      "  multiply (call_IepydK4IIxgncIjsXthOyuv5)\n",
      " Call ID: call_IepydK4IIxgncIjsXthOyuv5\n",
      "  Args:\n",
      "    a: 2\n",
      "    b: 3\n"
     ]
    }
   ],
   "source": [
    "for m in messages['messages']:\n",
    "    m.pretty_print()"
   ]
  }
 ],
 "metadata": {
  "kernelspec": {
   "display_name": ".venv",
   "language": "python",
   "name": "python3"
  },
  "language_info": {
   "codemirror_mode": {
    "name": "ipython",
    "version": 3
   },
   "file_extension": ".py",
   "mimetype": "text/x-python",
   "name": "python",
   "nbconvert_exporter": "python",
   "pygments_lexer": "ipython3",
   "version": "3.12.3"
  }
 },
 "nbformat": 4,
 "nbformat_minor": 2
}
